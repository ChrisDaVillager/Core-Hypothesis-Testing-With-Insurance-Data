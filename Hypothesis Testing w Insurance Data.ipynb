{
 "cells": [
  {
   "cell_type": "markdown",
   "id": "33a4b503",
   "metadata": {},
   "source": [
    "# Core - Hypothesis Testing w/ Insurance Data"
   ]
  },
  {
   "cell_type": "code",
   "execution_count": 1,
   "id": "457ef8dc",
   "metadata": {},
   "outputs": [],
   "source": [
    "# imports\n",
    "import pandas as pd\n",
    "import numpy as np\n",
    "import matplotlib.pyplot as plt\n",
    "import seaborn as sns\n",
    "import scipy.stats as stats\n",
    "from statsmodels.stats.multicomp import pairwise_tukeyhsd"
   ]
  },
  {
   "cell_type": "code",
   "execution_count": 2,
   "id": "5a562b58",
   "metadata": {},
   "outputs": [
    {
     "data": {
      "text/html": [
       "<div>\n",
       "<style scoped>\n",
       "    .dataframe tbody tr th:only-of-type {\n",
       "        vertical-align: middle;\n",
       "    }\n",
       "\n",
       "    .dataframe tbody tr th {\n",
       "        vertical-align: top;\n",
       "    }\n",
       "\n",
       "    .dataframe thead th {\n",
       "        text-align: right;\n",
       "    }\n",
       "</style>\n",
       "<table border=\"1\" class=\"dataframe\">\n",
       "  <thead>\n",
       "    <tr style=\"text-align: right;\">\n",
       "      <th></th>\n",
       "      <th>age</th>\n",
       "      <th>sex</th>\n",
       "      <th>bmi</th>\n",
       "      <th>children</th>\n",
       "      <th>smoker</th>\n",
       "      <th>region</th>\n",
       "      <th>charges</th>\n",
       "    </tr>\n",
       "  </thead>\n",
       "  <tbody>\n",
       "    <tr>\n",
       "      <th>0</th>\n",
       "      <td>19</td>\n",
       "      <td>female</td>\n",
       "      <td>27.900</td>\n",
       "      <td>0</td>\n",
       "      <td>yes</td>\n",
       "      <td>southwest</td>\n",
       "      <td>16884.92400</td>\n",
       "    </tr>\n",
       "    <tr>\n",
       "      <th>1</th>\n",
       "      <td>18</td>\n",
       "      <td>male</td>\n",
       "      <td>33.770</td>\n",
       "      <td>1</td>\n",
       "      <td>no</td>\n",
       "      <td>southeast</td>\n",
       "      <td>1725.55230</td>\n",
       "    </tr>\n",
       "    <tr>\n",
       "      <th>2</th>\n",
       "      <td>28</td>\n",
       "      <td>male</td>\n",
       "      <td>33.000</td>\n",
       "      <td>3</td>\n",
       "      <td>no</td>\n",
       "      <td>southeast</td>\n",
       "      <td>4449.46200</td>\n",
       "    </tr>\n",
       "    <tr>\n",
       "      <th>3</th>\n",
       "      <td>33</td>\n",
       "      <td>male</td>\n",
       "      <td>22.705</td>\n",
       "      <td>0</td>\n",
       "      <td>no</td>\n",
       "      <td>northwest</td>\n",
       "      <td>21984.47061</td>\n",
       "    </tr>\n",
       "    <tr>\n",
       "      <th>4</th>\n",
       "      <td>32</td>\n",
       "      <td>male</td>\n",
       "      <td>28.880</td>\n",
       "      <td>0</td>\n",
       "      <td>no</td>\n",
       "      <td>northwest</td>\n",
       "      <td>3866.85520</td>\n",
       "    </tr>\n",
       "  </tbody>\n",
       "</table>\n",
       "</div>"
      ],
      "text/plain": [
       "   age     sex     bmi  children smoker     region      charges\n",
       "0   19  female  27.900         0    yes  southwest  16884.92400\n",
       "1   18    male  33.770         1     no  southeast   1725.55230\n",
       "2   28    male  33.000         3     no  southeast   4449.46200\n",
       "3   33    male  22.705         0     no  northwest  21984.47061\n",
       "4   32    male  28.880         0     no  northwest   3866.85520"
      ]
     },
     "execution_count": 2,
     "metadata": {},
     "output_type": "execute_result"
    }
   ],
   "source": [
    "# importing csv & creating df\n",
    "df = pd.read_csv('Data/insurance - insurance.csv')\n",
    "df.head()"
   ]
  },
  {
   "cell_type": "code",
   "execution_count": 3,
   "id": "4dc0e99d",
   "metadata": {},
   "outputs": [
    {
     "name": "stdout",
     "output_type": "stream",
     "text": [
      "<class 'pandas.core.frame.DataFrame'>\n",
      "RangeIndex: 1338 entries, 0 to 1337\n",
      "Data columns (total 7 columns):\n",
      " #   Column    Non-Null Count  Dtype  \n",
      "---  ------    --------------  -----  \n",
      " 0   age       1338 non-null   int64  \n",
      " 1   sex       1338 non-null   object \n",
      " 2   bmi       1338 non-null   float64\n",
      " 3   children  1338 non-null   int64  \n",
      " 4   smoker    1338 non-null   object \n",
      " 5   region    1338 non-null   object \n",
      " 6   charges   1338 non-null   float64\n",
      "dtypes: float64(2), int64(2), object(3)\n",
      "memory usage: 73.3+ KB\n"
     ]
    }
   ],
   "source": [
    "df.info()"
   ]
  },
  {
   "cell_type": "code",
   "execution_count": 4,
   "id": "7a566412",
   "metadata": {},
   "outputs": [
    {
     "data": {
      "text/plain": [
       "0"
      ]
     },
     "execution_count": 4,
     "metadata": {},
     "output_type": "execute_result"
    }
   ],
   "source": [
    "# checking missing values\n",
    "df.isna().sum().sum()"
   ]
  },
  {
   "cell_type": "code",
   "execution_count": 5,
   "id": "cb551699",
   "metadata": {},
   "outputs": [
    {
     "data": {
      "text/plain": [
       "1"
      ]
     },
     "execution_count": 5,
     "metadata": {},
     "output_type": "execute_result"
    }
   ],
   "source": [
    "# checking duplicate values\n",
    "df.duplicated().sum()"
   ]
  },
  {
   "cell_type": "code",
   "execution_count": 6,
   "id": "12480302",
   "metadata": {},
   "outputs": [
    {
     "data": {
      "text/plain": [
       "0"
      ]
     },
     "execution_count": 6,
     "metadata": {},
     "output_type": "execute_result"
    }
   ],
   "source": [
    "# dropping duplicate value\n",
    "df.drop_duplicates(inplace=True)\n",
    "df.duplicated().sum()"
   ]
  },
  {
   "cell_type": "markdown",
   "id": "e2d28974",
   "metadata": {},
   "source": [
    "# **Q1. Do smokers have higher insurance charges than non-smokers?**"
   ]
  },
  {
   "cell_type": "markdown",
   "id": "fe59362f",
   "metadata": {},
   "source": [
    "**Null Hypothesis**: Smokers insurance charge is not higher in comparison to non-smokers\n",
    "\n",
    "**Alternative Hypothesis**: Smokers have a higher insurance charge in comparison to non-smokers\n",
    "\n",
    "**Alpha**: 0.05\n",
    "\n",
    "**Test**: We are comparing smokers to non-smokers, we will test for normality, variance using a T-Test"
   ]
  },
  {
   "cell_type": "code",
   "execution_count": 7,
   "id": "5e113ace",
   "metadata": {},
   "outputs": [
    {
     "name": "stdout",
     "output_type": "stream",
     "text": [
      "Smoker (n=l274):Mean=32050.23\n",
      "Non-Smoker (n=l274):Mean=8440.66\n"
     ]
    }
   ],
   "source": [
    "# locate charges for smokers & non-smokers\n",
    "smoker = df.loc[df['smoker']=='yes','charges']\n",
    "non_smoker = df.loc[df['smoker']=='no','charges']\n",
    "\n",
    "# grabbing mean for smoker & non-smokers\n",
    "print(f'Smoker (n=l{len(smoker)}):Mean={np.mean(smoker):.2f}')\n",
    "print(f'Non-Smoker (n=l{len(smoker)}):Mean={np.mean(non_smoker):.2f}')"
   ]
  },
  {
   "cell_type": "code",
   "execution_count": 8,
   "id": "b1402b3e",
   "metadata": {
    "scrolled": true
   },
   "outputs": [
    {
     "data": {
      "image/png": "[encoded data removed]",
      "text/plain": [
       "<Figure size 1000x500 with 2 Axes>"
      ]
     },
     "metadata": {},
     "output_type": "display_data"
    }
   ],
   "source": [
    "# setting palette\n",
    "smoker_palette={'yes':'cadetblue', 'no':'coral'}\n",
    "\n",
    "# visualize sample means\n",
    "fig, (ax,ax_bar) = plt.subplots(figsize=(10,5), ncols=2,\n",
    "                               constrained_layout=True,\n",
    "                               gridspec_kw={'width_ratios':[0.8,0.2]})\n",
    "\n",
    "# creating histogram\n",
    "ax = sns.histplot(data=df, x='charges', fill=True, hue='smoker', kde=True,\n",
    "                  stat='density', common_norm=False, ax=ax,\n",
    "                  palette=smoker_palette)\n",
    "\n",
    "ax.axvline(np.mean(smoker), ls='--', lw=3,\n",
    "           label=f'Smoker (Mean={np.mean(smoker):.2f})', color=smoker_palette['yes'])\n",
    "\n",
    "ax.axvline(np.mean(non_smoker), ls='--', lw=3,\n",
    "           label=f'Non-Smoker (Mean={np.mean(non_smoker):.2f})', color=smoker_palette['no'])\n",
    "\n",
    "ax.legend(prop={'size':14}, loc='upper right')\n",
    "\n",
    "# creating barplot\n",
    "sns.barplot(data=df, x='smoker', y='charges', ax=ax_bar, palette=smoker_palette)\n",
    "fig.suptitle('Comparison of Charges by Smoker', fontsize='xx-large');"
   ]
  },
  {
   "cell_type": "markdown",
   "id": "59cd8a8a",
   "metadata": {},
   "source": [
    "**Outlier Check**"
   ]
  },
  {
   "cell_type": "code",
   "execution_count": 9,
   "id": "13c8e866",
   "metadata": {},
   "outputs": [
    {
     "data": {
      "text/plain": [
       "0"
      ]
     },
     "execution_count": 9,
     "metadata": {},
     "output_type": "execute_result"
    }
   ],
   "source": [
    "# locating smoker outliers\n",
    "smoker_zscores = stats.zscore(smoker)\n",
    "smoker_outliers = abs(smoker_zscores) > 3\n",
    "np.sum(smoker_outliers)"
   ]
  },
  {
   "cell_type": "code",
   "execution_count": 10,
   "id": "e9ab8546",
   "metadata": {},
   "outputs": [
    {
     "data": {
      "text/plain": [
       "24"
      ]
     },
     "execution_count": 10,
     "metadata": {},
     "output_type": "execute_result"
    }
   ],
   "source": [
    "# locating non-smoker outliers\n",
    "non_smoker_zscores = stats.zscore(non_smoker)\n",
    "non_smoker_outliers = abs(non_smoker_zscores) > 3\n",
    "np.sum(non_smoker_outliers)"
   ]
  },
  {
   "cell_type": "markdown",
   "id": "e631eeca",
   "metadata": {},
   "source": [
    "**Normality Check**"
   ]
  },
  {
   "cell_type": "code",
   "execution_count": 11,
   "id": "ae65f91d",
   "metadata": {},
   "outputs": [
    {
     "name": "stdout",
     "output_type": "stream",
     "text": [
      "Smoker Results: NormaltestResult(statistic=61.03941356533816, pvalue=5.564930630036463e-14)\n"
     ]
    }
   ],
   "source": [
    "# checking smoker normality\n",
    "smoker_res = stats.normaltest(smoker)\n",
    "print(f'Smoker Results: {smoker_res}')"
   ]
  },
  {
   "cell_type": "code",
   "execution_count": 12,
   "id": "80618b15",
   "metadata": {},
   "outputs": [
    {
     "name": "stdout",
     "output_type": "stream",
     "text": [
      "Non-Smoker Results: NormaltestResult(statistic=316.23579659917766, pvalue=2.1392881146814186e-69)\n"
     ]
    }
   ],
   "source": [
    "# checking non-smoker normality\n",
    "non_smoker_res = stats.normaltest(non_smoker)\n",
    "print(f'Non-Smoker Results: {non_smoker_res}')"
   ]
  },
  {
   "cell_type": "markdown",
   "id": "288fb23a",
   "metadata": {},
   "source": [
    "P-Value for both smokers & non-smokers are above our Alpha of 0.05. We can move forward and assume this is a normal distribution."
   ]
  },
  {
   "cell_type": "markdown",
   "id": "af4dbbf5",
   "metadata": {},
   "source": [
    "**Levene Test - For Equal Variance**"
   ]
  },
  {
   "cell_type": "code",
   "execution_count": 13,
   "id": "4e97bf19",
   "metadata": {},
   "outputs": [
    {
     "data": {
      "text/plain": [
       "LeveneResult(statistic=332.47137394800666, pvalue=1.670117565125241e-66)"
      ]
     },
     "execution_count": 13,
     "metadata": {},
     "output_type": "execute_result"
    }
   ],
   "source": [
    "res = stats.levene(smoker, non_smoker)\n",
    "res"
   ]
  },
  {
   "cell_type": "markdown",
   "id": "449c6c45",
   "metadata": {},
   "source": [
    "We reject our null hypothesis since our P-Value is less than 0.05 and there is no sign of equal variance."
   ]
  },
  {
   "cell_type": "markdown",
   "id": "df7e0dc9",
   "metadata": {},
   "source": [
    "**Independent T--Test**"
   ]
  },
  {
   "cell_type": "code",
   "execution_count": 14,
   "id": "ea7339f3",
   "metadata": {},
   "outputs": [
    {
     "name": "stdout",
     "output_type": "stream",
     "text": [
      "Ttest_indResult(statistic=32.7423097372529, pvalue=6.261720774727631e-103)\n",
      "Significant: True\n"
     ]
    }
   ],
   "source": [
    "results = stats.ttest_ind(smoker, non_smoker, equal_var=False)\n",
    "print(results)\n",
    "print(f'Significant: {results.pvalue < 0.05}')"
   ]
  },
  {
   "cell_type": "markdown",
   "id": "565a6893",
   "metadata": {},
   "source": [
    "**Final Conclusion**\n",
    "\n",
    "We reject our null hypothesis & accept our alternative hypothesis because our P-Value is less than 0.05. "
   ]
  },
  {
   "cell_type": "markdown",
   "id": "42549fb2",
   "metadata": {},
   "source": [
    "# **Q2. Are men more likely to smoke than women?**"
   ]
  },
  {
   "cell_type": "markdown",
   "id": "20e38044",
   "metadata": {},
   "source": [
    "**Null Hypothesis**: Men are just likely to be smokers in comparison to women\n",
    "\n",
    "**Alternative Hypothesis**: Men are more likely to smoke in comparison to women.\n",
    "\n",
    "**Alpha**: 0.05"
   ]
  },
  {
   "cell_type": "code",
   "execution_count": 15,
   "id": "c332128f",
   "metadata": {},
   "outputs": [
    {
     "data": {
      "text/html": [
       "<div>\n",
       "<style scoped>\n",
       "    .dataframe tbody tr th:only-of-type {\n",
       "        vertical-align: middle;\n",
       "    }\n",
       "\n",
       "    .dataframe tbody tr th {\n",
       "        vertical-align: top;\n",
       "    }\n",
       "\n",
       "    .dataframe thead th {\n",
       "        text-align: right;\n",
       "    }\n",
       "</style>\n",
       "<table border=\"1\" class=\"dataframe\">\n",
       "  <thead>\n",
       "    <tr style=\"text-align: right;\">\n",
       "      <th></th>\n",
       "      <th>age</th>\n",
       "      <th>sex</th>\n",
       "      <th>bmi</th>\n",
       "      <th>children</th>\n",
       "      <th>smoker</th>\n",
       "      <th>region</th>\n",
       "      <th>charges</th>\n",
       "    </tr>\n",
       "  </thead>\n",
       "  <tbody>\n",
       "    <tr>\n",
       "      <th>0</th>\n",
       "      <td>19</td>\n",
       "      <td>female</td>\n",
       "      <td>27.900</td>\n",
       "      <td>0</td>\n",
       "      <td>yes</td>\n",
       "      <td>southwest</td>\n",
       "      <td>16884.92400</td>\n",
       "    </tr>\n",
       "    <tr>\n",
       "      <th>1</th>\n",
       "      <td>18</td>\n",
       "      <td>male</td>\n",
       "      <td>33.770</td>\n",
       "      <td>1</td>\n",
       "      <td>no</td>\n",
       "      <td>southeast</td>\n",
       "      <td>1725.55230</td>\n",
       "    </tr>\n",
       "    <tr>\n",
       "      <th>2</th>\n",
       "      <td>28</td>\n",
       "      <td>male</td>\n",
       "      <td>33.000</td>\n",
       "      <td>3</td>\n",
       "      <td>no</td>\n",
       "      <td>southeast</td>\n",
       "      <td>4449.46200</td>\n",
       "    </tr>\n",
       "    <tr>\n",
       "      <th>3</th>\n",
       "      <td>33</td>\n",
       "      <td>male</td>\n",
       "      <td>22.705</td>\n",
       "      <td>0</td>\n",
       "      <td>no</td>\n",
       "      <td>northwest</td>\n",
       "      <td>21984.47061</td>\n",
       "    </tr>\n",
       "    <tr>\n",
       "      <th>4</th>\n",
       "      <td>32</td>\n",
       "      <td>male</td>\n",
       "      <td>28.880</td>\n",
       "      <td>0</td>\n",
       "      <td>no</td>\n",
       "      <td>northwest</td>\n",
       "      <td>3866.85520</td>\n",
       "    </tr>\n",
       "  </tbody>\n",
       "</table>\n",
       "</div>"
      ],
      "text/plain": [
       "   age     sex     bmi  children smoker     region      charges\n",
       "0   19  female  27.900         0    yes  southwest  16884.92400\n",
       "1   18    male  33.770         1     no  southeast   1725.55230\n",
       "2   28    male  33.000         3     no  southeast   4449.46200\n",
       "3   33    male  22.705         0     no  northwest  21984.47061\n",
       "4   32    male  28.880         0     no  northwest   3866.85520"
      ]
     },
     "execution_count": 15,
     "metadata": {},
     "output_type": "execute_result"
    }
   ],
   "source": [
    "df.head()"
   ]
  },
  {
   "cell_type": "code",
   "execution_count": 16,
   "id": "9200e6d4",
   "metadata": {},
   "outputs": [
    {
     "data": {
      "text/plain": [
       "no     1063\n",
       "yes     274\n",
       "Name: smoker, dtype: int64"
      ]
     },
     "execution_count": 16,
     "metadata": {},
     "output_type": "execute_result"
    }
   ],
   "source": [
    "df['smoker'].value_counts()"
   ]
  },
  {
   "cell_type": "code",
   "execution_count": 17,
   "id": "c2c83f86",
   "metadata": {},
   "outputs": [
    {
     "data": {
      "text/plain": [
       "0    1063\n",
       "1     274\n",
       "Name: smoker, dtype: int64"
      ]
     },
     "execution_count": 17,
     "metadata": {},
     "output_type": "execute_result"
    }
   ],
   "source": [
    "# creating new df for smokers\n",
    "# replacing yes/no to 0/1\n",
    "# citing: https://stackoverflow.com/questions/50286017/converting-yes-to-1-and-no-to-0-in-python\n",
    "df1 = df\n",
    "df1['smoker'] = df1['smoker'].apply(lambda x:0 if x=='no' else 1)\n",
    "df1['smoker'].value_counts()"
   ]
  },
  {
   "cell_type": "code",
   "execution_count": 18,
   "id": "6439caf7",
   "metadata": {},
   "outputs": [
    {
     "data": {
      "image/png": "[encoded data removed]",
      "text/plain": [
       "<Figure size 640x480 with 1 Axes>"
      ]
     },
     "metadata": {},
     "output_type": "display_data"
    }
   ],
   "source": [
    "ax = sns.countplot(data=df1, x='sex', hue='smoker')\n",
    "ax.set_title('Number of Smokers by Sex');"
   ]
  },
  {
   "cell_type": "markdown",
   "id": "ec87517a",
   "metadata": {},
   "source": [
    "**Categorical Hypothesis Test - Chi-Squared Test**"
   ]
  },
  {
   "cell_type": "code",
   "execution_count": 19,
   "id": "cdfc1e60",
   "metadata": {},
   "outputs": [
    {
     "data": {
      "text/html": [
       "<div>\n",
       "<style scoped>\n",
       "    .dataframe tbody tr th:only-of-type {\n",
       "        vertical-align: middle;\n",
       "    }\n",
       "\n",
       "    .dataframe tbody tr th {\n",
       "        vertical-align: top;\n",
       "    }\n",
       "\n",
       "    .dataframe thead th {\n",
       "        text-align: right;\n",
       "    }\n",
       "</style>\n",
       "<table border=\"1\" class=\"dataframe\">\n",
       "  <thead>\n",
       "    <tr style=\"text-align: right;\">\n",
       "      <th>smoker</th>\n",
       "      <th>0</th>\n",
       "      <th>1</th>\n",
       "    </tr>\n",
       "    <tr>\n",
       "      <th>sex</th>\n",
       "      <th></th>\n",
       "      <th></th>\n",
       "    </tr>\n",
       "  </thead>\n",
       "  <tbody>\n",
       "    <tr>\n",
       "      <th>female</th>\n",
       "      <td>547</td>\n",
       "      <td>115</td>\n",
       "    </tr>\n",
       "    <tr>\n",
       "      <th>male</th>\n",
       "      <td>516</td>\n",
       "      <td>159</td>\n",
       "    </tr>\n",
       "  </tbody>\n",
       "</table>\n",
       "</div>"
      ],
      "text/plain": [
       "smoker    0    1\n",
       "sex             \n",
       "female  547  115\n",
       "male    516  159"
      ]
     },
     "execution_count": 19,
     "metadata": {},
     "output_type": "execute_result"
    }
   ],
   "source": [
    "# calculating contingency table\n",
    "table = pd.crosstab(df1['sex'],df1['smoker'])\n",
    "table"
   ]
  },
  {
   "cell_type": "code",
   "execution_count": 20,
   "id": "8ddcc3e6",
   "metadata": {},
   "outputs": [],
   "source": [
    "# run test & save output\n",
    "result = stats.chi2_contingency(table)\n",
    "chie2, p, deg_free, expected_vals = result"
   ]
  },
  {
   "cell_type": "code",
   "execution_count": 21,
   "id": "21d9261f",
   "metadata": {},
   "outputs": [
    {
     "name": "stdout",
     "output_type": "stream",
     "text": [
      "0.0062765550120107375\n",
      "Significant: True\n"
     ]
    }
   ],
   "source": [
    "print(p)\n",
    "print(f'Significant: {p < 0.05}')"
   ]
  },
  {
   "cell_type": "markdown",
   "id": "72228908",
   "metadata": {},
   "source": [
    "**Final Conclusion**\n",
    "\n",
    "We reject our null hypothesis and accept our alternative hypothesis since our P-Value is less than 0.05"
   ]
  },
  {
   "cell_type": "markdown",
   "id": "e238c66d",
   "metadata": {},
   "source": [
    "# **Q3. Do different regions have different charges, on average?**"
   ]
  },
  {
   "cell_type": "markdown",
   "id": "34a1a94d",
   "metadata": {},
   "source": [
    "**Null Hypothesis**: No difference in average charges based on region.\n",
    "\n",
    "**Alternative Hypothesis**: There is a an average charge difference based on region. \n",
    "\n",
    "**Alpha**: 0.05"
   ]
  },
  {
   "cell_type": "code",
   "execution_count": 22,
   "id": "2d3179d4",
   "metadata": {},
   "outputs": [
    {
     "data": {
      "text/html": [
       "<div>\n",
       "<style scoped>\n",
       "    .dataframe tbody tr th:only-of-type {\n",
       "        vertical-align: middle;\n",
       "    }\n",
       "\n",
       "    .dataframe tbody tr th {\n",
       "        vertical-align: top;\n",
       "    }\n",
       "\n",
       "    .dataframe thead th {\n",
       "        text-align: right;\n",
       "    }\n",
       "</style>\n",
       "<table border=\"1\" class=\"dataframe\">\n",
       "  <thead>\n",
       "    <tr style=\"text-align: right;\">\n",
       "      <th></th>\n",
       "      <th>age</th>\n",
       "      <th>sex</th>\n",
       "      <th>bmi</th>\n",
       "      <th>children</th>\n",
       "      <th>smoker</th>\n",
       "      <th>region</th>\n",
       "      <th>charges</th>\n",
       "    </tr>\n",
       "  </thead>\n",
       "  <tbody>\n",
       "    <tr>\n",
       "      <th>0</th>\n",
       "      <td>19</td>\n",
       "      <td>female</td>\n",
       "      <td>27.900</td>\n",
       "      <td>0</td>\n",
       "      <td>1</td>\n",
       "      <td>southwest</td>\n",
       "      <td>16884.92400</td>\n",
       "    </tr>\n",
       "    <tr>\n",
       "      <th>1</th>\n",
       "      <td>18</td>\n",
       "      <td>male</td>\n",
       "      <td>33.770</td>\n",
       "      <td>1</td>\n",
       "      <td>0</td>\n",
       "      <td>southeast</td>\n",
       "      <td>1725.55230</td>\n",
       "    </tr>\n",
       "    <tr>\n",
       "      <th>2</th>\n",
       "      <td>28</td>\n",
       "      <td>male</td>\n",
       "      <td>33.000</td>\n",
       "      <td>3</td>\n",
       "      <td>0</td>\n",
       "      <td>southeast</td>\n",
       "      <td>4449.46200</td>\n",
       "    </tr>\n",
       "    <tr>\n",
       "      <th>3</th>\n",
       "      <td>33</td>\n",
       "      <td>male</td>\n",
       "      <td>22.705</td>\n",
       "      <td>0</td>\n",
       "      <td>0</td>\n",
       "      <td>northwest</td>\n",
       "      <td>21984.47061</td>\n",
       "    </tr>\n",
       "    <tr>\n",
       "      <th>4</th>\n",
       "      <td>32</td>\n",
       "      <td>male</td>\n",
       "      <td>28.880</td>\n",
       "      <td>0</td>\n",
       "      <td>0</td>\n",
       "      <td>northwest</td>\n",
       "      <td>3866.85520</td>\n",
       "    </tr>\n",
       "  </tbody>\n",
       "</table>\n",
       "</div>"
      ],
      "text/plain": [
       "   age     sex     bmi  children  smoker     region      charges\n",
       "0   19  female  27.900         0       1  southwest  16884.92400\n",
       "1   18    male  33.770         1       0  southeast   1725.55230\n",
       "2   28    male  33.000         3       0  southeast   4449.46200\n",
       "3   33    male  22.705         0       0  northwest  21984.47061\n",
       "4   32    male  28.880         0       0  northwest   3866.85520"
      ]
     },
     "execution_count": 22,
     "metadata": {},
     "output_type": "execute_result"
    }
   ],
   "source": [
    "df.head()"
   ]
  },
  {
   "cell_type": "code",
   "execution_count": 23,
   "id": "ee746243",
   "metadata": {},
   "outputs": [
    {
     "data": {
      "text/plain": [
       "southeast    364\n",
       "southwest    325\n",
       "northwest    324\n",
       "northeast    324\n",
       "Name: region, dtype: int64"
      ]
     },
     "execution_count": 23,
     "metadata": {},
     "output_type": "execute_result"
    }
   ],
   "source": [
    "# checking region value counts\n",
    "df['region'].value_counts()"
   ]
  },
  {
   "cell_type": "code",
   "execution_count": 24,
   "id": "df22641f",
   "metadata": {},
   "outputs": [
    {
     "data": {
      "image/png": "[encoded data removed]",
      "text/plain": [
       "<Figure size 640x480 with 1 Axes>"
      ]
     },
     "metadata": {},
     "output_type": "display_data"
    }
   ],
   "source": [
    "# create barplot to display regions based on charges\n",
    "sns.barplot(data=df, x='region', y='charges');"
   ]
  },
  {
   "cell_type": "markdown",
   "id": "c8d78f7c",
   "metadata": {},
   "source": [
    "**Separating Groups**"
   ]
  },
  {
   "cell_type": "code",
   "execution_count": 25,
   "id": "3d8fa4c3",
   "metadata": {},
   "outputs": [
    {
     "data": {
      "text/plain": [
       "dict_keys(['southwest', 'southeast', 'northwest', 'northeast'])"
      ]
     },
     "execution_count": 25,
     "metadata": {},
     "output_type": "execute_result"
    }
   ],
   "source": [
    "# create dictionary for groups. $ groups, more groups = better\n",
    "groups = {}\n",
    "\n",
    "# loop through unique cats\n",
    "for i in df['region'].unique():\n",
    "    data = df.loc[df['region']==i, 'charges'].copy()\n",
    "    \n",
    "    # save into dictionary\n",
    "    groups[i] = data\n",
    "    \n",
    "groups.keys()"
   ]
  },
  {
   "cell_type": "markdown",
   "id": "4af8a996",
   "metadata": {},
   "source": [
    "**Testing Assumptions**"
   ]
  },
  {
   "cell_type": "code",
   "execution_count": 26,
   "id": "0d4ad45a",
   "metadata": {},
   "outputs": [
    {
     "data": {
      "text/html": [
       "<div>\n",
       "<style scoped>\n",
       "    .dataframe tbody tr th:only-of-type {\n",
       "        vertical-align: middle;\n",
       "    }\n",
       "\n",
       "    .dataframe tbody tr th {\n",
       "        vertical-align: top;\n",
       "    }\n",
       "\n",
       "    .dataframe thead th {\n",
       "        text-align: right;\n",
       "    }\n",
       "</style>\n",
       "<table border=\"1\" class=\"dataframe\">\n",
       "  <thead>\n",
       "    <tr style=\"text-align: right;\">\n",
       "      <th></th>\n",
       "      <th>n</th>\n",
       "      <th>p</th>\n",
       "      <th>test stat</th>\n",
       "    </tr>\n",
       "  </thead>\n",
       "  <tbody>\n",
       "    <tr>\n",
       "      <th>southwest</th>\n",
       "      <td>325.0</td>\n",
       "      <td>6.125298e-23</td>\n",
       "      <td>102.294059</td>\n",
       "    </tr>\n",
       "    <tr>\n",
       "      <th>southeast</th>\n",
       "      <td>364.0</td>\n",
       "      <td>4.953297e-15</td>\n",
       "      <td>65.877446</td>\n",
       "    </tr>\n",
       "    <tr>\n",
       "      <th>northwest</th>\n",
       "      <td>324.0</td>\n",
       "      <td>6.502634e-24</td>\n",
       "      <td>106.779670</td>\n",
       "    </tr>\n",
       "    <tr>\n",
       "      <th>northeast</th>\n",
       "      <td>324.0</td>\n",
       "      <td>1.455431e-19</td>\n",
       "      <td>86.747629</td>\n",
       "    </tr>\n",
       "  </tbody>\n",
       "</table>\n",
       "</div>"
      ],
      "text/plain": [
       "               n             p   test stat\n",
       "southwest  325.0  6.125298e-23  102.294059\n",
       "southeast  364.0  4.953297e-15   65.877446\n",
       "northwest  324.0  6.502634e-24  106.779670\n",
       "northeast  324.0  1.455431e-19   86.747629"
      ]
     },
     "execution_count": 26,
     "metadata": {},
     "output_type": "execute_result"
    }
   ],
   "source": [
    "# running normal test on each groups & confirming there are > 20 in each group\n",
    "norm_results = {}\n",
    "\n",
    "for i, data in groups.items():\n",
    "    stat, p = stats.normaltest(data)\n",
    "    norm_results[i] = {'n': len(data),\n",
    "                             'p':p,\n",
    "                             'test stat':stat,}\n",
    "    \n",
    "norm_results_df = pd.DataFrame(norm_results).T\n",
    "norm_results_df"
   ]
  },
  {
   "cell_type": "code",
   "execution_count": 27,
   "id": "4b12713d",
   "metadata": {},
   "outputs": [
    {
     "data": {
      "text/html": [
       "<div>\n",
       "<style scoped>\n",
       "    .dataframe tbody tr th:only-of-type {\n",
       "        vertical-align: middle;\n",
       "    }\n",
       "\n",
       "    .dataframe tbody tr th {\n",
       "        vertical-align: top;\n",
       "    }\n",
       "\n",
       "    .dataframe thead th {\n",
       "        text-align: right;\n",
       "    }\n",
       "</style>\n",
       "<table border=\"1\" class=\"dataframe\">\n",
       "  <thead>\n",
       "    <tr style=\"text-align: right;\">\n",
       "      <th></th>\n",
       "      <th>n</th>\n",
       "      <th>p</th>\n",
       "      <th>test stat</th>\n",
       "      <th>sig</th>\n",
       "    </tr>\n",
       "  </thead>\n",
       "  <tbody>\n",
       "    <tr>\n",
       "      <th>southwest</th>\n",
       "      <td>325.0</td>\n",
       "      <td>6.125298e-23</td>\n",
       "      <td>102.294059</td>\n",
       "      <td>True</td>\n",
       "    </tr>\n",
       "    <tr>\n",
       "      <th>southeast</th>\n",
       "      <td>364.0</td>\n",
       "      <td>4.953297e-15</td>\n",
       "      <td>65.877446</td>\n",
       "      <td>True</td>\n",
       "    </tr>\n",
       "    <tr>\n",
       "      <th>northwest</th>\n",
       "      <td>324.0</td>\n",
       "      <td>6.502634e-24</td>\n",
       "      <td>106.779670</td>\n",
       "      <td>True</td>\n",
       "    </tr>\n",
       "    <tr>\n",
       "      <th>northeast</th>\n",
       "      <td>324.0</td>\n",
       "      <td>1.455431e-19</td>\n",
       "      <td>86.747629</td>\n",
       "      <td>True</td>\n",
       "    </tr>\n",
       "  </tbody>\n",
       "</table>\n",
       "</div>"
      ],
      "text/plain": [
       "               n             p   test stat   sig\n",
       "southwest  325.0  6.125298e-23  102.294059  True\n",
       "southeast  364.0  4.953297e-15   65.877446  True\n",
       "northwest  324.0  6.502634e-24  106.779670  True\n",
       "northeast  324.0  1.455431e-19   86.747629  True"
      ]
     },
     "execution_count": 27,
     "metadata": {},
     "output_type": "execute_result"
    }
   ],
   "source": [
    "# checking sig with pandas\n",
    "norm_results_df['sig'] = norm_results_df['p'] < .05\n",
    "norm_results_df"
   ]
  },
  {
   "cell_type": "markdown",
   "id": "9a658277",
   "metadata": {},
   "source": [
    "**Testing Assumption of Equal Variance**"
   ]
  },
  {
   "cell_type": "code",
   "execution_count": 28,
   "id": "c7f8d86e",
   "metadata": {},
   "outputs": [
    {
     "data": {
      "text/plain": [
       "LeveneResult(statistic=5.553479860699911, pvalue=0.0008689544824002284)"
      ]
     },
     "execution_count": 28,
     "metadata": {},
     "output_type": "execute_result"
    }
   ],
   "source": [
    "# running levene test using * operator\n",
    "stats.levene(*groups.values())"
   ]
  },
  {
   "cell_type": "markdown",
   "id": "578d24c6",
   "metadata": {},
   "source": [
    "**Kruskal Test**"
   ]
  },
  {
   "cell_type": "code",
   "execution_count": 29,
   "id": "4029cd72",
   "metadata": {},
   "outputs": [
    {
     "data": {
      "text/plain": [
       "KruskalResult(statistic=4.622506584464645, pvalue=0.20161983372311595)"
      ]
     },
     "execution_count": 29,
     "metadata": {},
     "output_type": "execute_result"
    }
   ],
   "source": [
    "# performing correct hypothesis test\n",
    "result = stats.kruskal( *groups.values())\n",
    "result"
   ]
  },
  {
   "cell_type": "markdown",
   "id": "88f67a94",
   "metadata": {},
   "source": [
    "**Checking for Outliers**"
   ]
  },
  {
   "cell_type": "code",
   "execution_count": 30,
   "id": "24f31fe2",
   "metadata": {},
   "outputs": [],
   "source": [
    "# save 'charges' as values & 'region' as label\n",
    "values = df['charges']\n",
    "labels = df['region']"
   ]
  },
  {
   "cell_type": "code",
   "execution_count": 31,
   "id": "7c7450bc",
   "metadata": {},
   "outputs": [
    {
     "data": {
      "text/plain": [
       "7"
      ]
     },
     "execution_count": 31,
     "metadata": {},
     "output_type": "execute_result"
    }
   ],
   "source": [
    "value_outliers = np.abs(stats.zscore(values)) > 3\n",
    "value_outliers.sum()"
   ]
  },
  {
   "cell_type": "code",
   "execution_count": 36,
   "id": "20f15c64",
   "metadata": {},
   "outputs": [
    {
     "data": {
      "text/plain": [
       "1337"
      ]
     },
     "execution_count": 36,
     "metadata": {},
     "output_type": "execute_result"
    }
   ],
   "source": [
    "# check length of outliers in 'values'\n",
    "len(value_outliers)"
   ]
  },
  {
   "cell_type": "code",
   "execution_count": 37,
   "id": "f5e46f9f",
   "metadata": {},
   "outputs": [
    {
     "data": {
      "text/plain": [
       "0       16884.92400\n",
       "1        1725.55230\n",
       "2        4449.46200\n",
       "3       21984.47061\n",
       "4        3866.85520\n",
       "           ...     \n",
       "1333    10600.54830\n",
       "1334     2205.98080\n",
       "1335     1629.83350\n",
       "1336     2007.94500\n",
       "1337    29141.36030\n",
       "Name: charges, Length: 1330, dtype: float64"
      ]
     },
     "execution_count": 37,
     "metadata": {},
     "output_type": "execute_result"
    }
   ],
   "source": [
    "# remove 'values' outliers\n",
    "clean_values = values[value_outliers==False]\n",
    "clean_values"
   ]
  },
  {
   "cell_type": "code",
   "execution_count": 38,
   "id": "a69c13c0",
   "metadata": {},
   "outputs": [
    {
     "data": {
      "text/plain": [
       "7"
      ]
     },
     "execution_count": 38,
     "metadata": {},
     "output_type": "execute_result"
    }
   ],
   "source": [
    "label_outliers = np.abs(stats.zscore(values)) > 3\n",
    "label_outliers.sum()"
   ]
  },
  {
   "cell_type": "code",
   "execution_count": 39,
   "id": "40ffcd11",
   "metadata": {},
   "outputs": [
    {
     "data": {
      "text/plain": [
       "1337"
      ]
     },
     "execution_count": 39,
     "metadata": {},
     "output_type": "execute_result"
    }
   ],
   "source": [
    "# check length of outliers in 'labels'\n",
    "len(label_outliers)"
   ]
  },
  {
   "cell_type": "code",
   "execution_count": 40,
   "id": "9bffbbef",
   "metadata": {},
   "outputs": [
    {
     "data": {
      "text/plain": [
       "0       southwest\n",
       "1       southeast\n",
       "2       southeast\n",
       "3       northwest\n",
       "4       northwest\n",
       "          ...    \n",
       "1333    northwest\n",
       "1334    northeast\n",
       "1335    southeast\n",
       "1336    southwest\n",
       "1337    northwest\n",
       "Name: region, Length: 1330, dtype: object"
      ]
     },
     "execution_count": 40,
     "metadata": {},
     "output_type": "execute_result"
    }
   ],
   "source": [
    "# remove 'labels' outliers\n",
    "clean_labels = labels[label_outliers==False]\n",
    "clean_labels"
   ]
  },
  {
   "cell_type": "markdown",
   "id": "64397002",
   "metadata": {},
   "source": [
    "**Tukey's Pairwise Multiple Comparisons Test**"
   ]
  },
  {
   "cell_type": "code",
   "execution_count": 41,
   "id": "c0237bad",
   "metadata": {
    "scrolled": true
   },
   "outputs": [
    {
     "data": {
      "text/html": [
       "<table class=\"simpletable\">\n",
       "<caption>Multiple Comparison of Means - Tukey HSD, FWER=0.05</caption>\n",
       "<tr>\n",
       "   <th>group1</th>    <th>group2</th>    <th>meandiff</th>   <th>p-adj</th>    <th>lower</th>     <th>upper</th>   <th>reject</th>\n",
       "</tr>\n",
       "<tr>\n",
       "  <td>northeast</td> <td>northwest</td>  <td>-955.5437</td> <td>0.7457</td> <td>-3397.7353</td> <td>1486.648</td>   <td>False</td>\n",
       "</tr>\n",
       "<tr>\n",
       "  <td>northeast</td> <td>southeast</td>  <td>1329.0269</td> <td>0.4746</td> <td>-1045.1237</td> <td>3703.1776</td>  <td>False</td>\n",
       "</tr>\n",
       "<tr>\n",
       "  <td>northeast</td> <td>southwest</td> <td>-1059.4471</td> <td>0.6793</td> <td>-3499.7595</td> <td>1380.8652</td>  <td>False</td>\n",
       "</tr>\n",
       "<tr>\n",
       "  <td>northwest</td> <td>southeast</td>  <td>2284.5706</td> <td>0.0643</td>   <td>-89.58</td>   <td>4658.7212</td>  <td>False</td>\n",
       "</tr>\n",
       "<tr>\n",
       "  <td>northwest</td> <td>southwest</td>  <td>-103.9035</td> <td>0.9995</td> <td>-2544.2158</td> <td>2336.4088</td>  <td>False</td>\n",
       "</tr>\n",
       "<tr>\n",
       "  <td>southeast</td> <td>southwest</td> <td>-2388.4741</td> <td>0.0477</td> <td>-4760.6915</td> <td>-16.2567</td>   <td>True</td> \n",
       "</tr>\n",
       "</table>"
      ],
      "text/plain": [
       "<class 'statsmodels.iolib.table.SimpleTable'>"
      ]
     },
     "execution_count": 41,
     "metadata": {},
     "output_type": "execute_result"
    }
   ],
   "source": [
    "# perform tukey's multiple comparison test and display summary\n",
    "tukeys_results = pairwise_tukeyhsd(values, labels)\n",
    "tukeys_results.summary()"
   ]
  },
  {
   "cell_type": "markdown",
   "id": "e5b57d3b",
   "metadata": {},
   "source": [
    "**Final Conclusion**\n",
    "\n",
    "We accept our null hypothesis which was there is no difference in average charges based on region. Only significant difference that is shown is between our southeast region to southwest region. "
   ]
  }
 ],
 "metadata": {
  "kernelspec": {
   "display_name": "Python (dojo-env)",
   "language": "python",
   "name": "dojo-env"
  },
  "language_info": {
   "codemirror_mode": {
    "name": "ipython",
    "version": 3
   },
   "file_extension": ".py",
   "mimetype": "text/x-python",
   "name": "python",
   "nbconvert_exporter": "python",
   "pygments_lexer": "ipython3",
   "version": "3.8.13"
  },
  "toc": {
   "base_numbering": 1,
   "nav_menu": {},
   "number_sections": false,
   "sideBar": true,
   "skip_h1_title": false,
   "title_cell": "Table of Contents",
   "title_sidebar": "Contents",
   "toc_cell": false,
   "toc_position": {},
   "toc_section_display": true,
   "toc_window_display": false
  }
 },
 "nbformat": 4,
 "nbformat_minor": 5
}
